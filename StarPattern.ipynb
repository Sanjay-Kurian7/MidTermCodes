{
 "cells": [
  {
   "cell_type": "code",
   "execution_count": 14,
   "metadata": {},
   "outputs": [
    {
     "name": "stdout",
     "output_type": "stream",
     "text": [
      "\n",
      "------\n",
      "*\n",
      "\n",
      "------\n",
      "*\n",
      "**\n",
      " *\n"
     ]
    }
   ],
   "source": [
    "def tough(indentation, n, current=1, going_down=True):\n",
    "    if current > n:\n",
    "        going_down = False\n",
    "        current -= 2\n",
    "\n",
    "    print(' ' * indentation + '*' * current)\n",
    "\n",
    "    if going_down:\n",
    "        if current == 1:\n",
    "            tough(indentation, n, current + 1, going_down)\n",
    "        else:\n",
    "            tough(indentation + 1, n, current + 1, going_down)\n",
    "    else:\n",
    "        if current > 1:\n",
    "            tough(indentation - 1, n, current - 1, going_down)\n",
    "\n",
    "tough(0, 0)\n",
    "print(\"------\")\n",
    "tough(0, 1)\n",
    "print(\"------\")\n",
    "tough(0, 2)\n"
   ]
  }
 ],
 "metadata": {
  "kernelspec": {
   "display_name": "base",
   "language": "python",
   "name": "python3"
  },
  "language_info": {
   "name": "python",
   "version": "3.10.8"
  }
 },
 "nbformat": 4,
 "nbformat_minor": 2
}
